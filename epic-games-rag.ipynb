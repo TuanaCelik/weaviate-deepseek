{
 "cells": [
  {
   "cell_type": "code",
   "execution_count": 1,
   "metadata": {},
   "outputs": [],
   "source": [
    "from getpass import getpass\n",
    "import os\n",
    "\n",
    "if \"OPENAI_APIKEY\" not in os.environ:\n",
    "    os.environ[\"OPENAI_APIKEY\"] = getpass(\"Enter your OpenAI API Key\")"
   ]
  },
  {
   "cell_type": "code",
   "execution_count": 2,
   "metadata": {},
   "outputs": [
    {
     "data": {
      "text/plain": [
       "<weaviate.collections.collection.sync.Collection at 0x10de17530>"
      ]
     },
     "execution_count": 2,
     "metadata": {},
     "output_type": "execute_result"
    }
   ],
   "source": [
    "import weaviate\n",
    "import weaviate.classes.config as wc\n",
    "from weaviate.util import generate_uuid5\n",
    "import os\n",
    "from tqdm import tqdm\n",
    "import pandas as pd\n",
    "\n",
    "headers = {\"X-OpenAI-Api-Key\": os.getenv(\"OPENAI_APIKEY\")}\n",
    "client = weaviate.connect_to_local(headers=headers)\n",
    "\n",
    "if client.collections.exists(\"Games\"):\n",
    "    client.collections.delete(\"Games\")\n",
    "client.collections.create(\n",
    "    name=\"Games\",\n",
    "    properties=[\n",
    "        wc.Property(name=\"name\", data_type=wc.DataType.TEXT),\n",
    "        wc.Property(name=\"price\", data_type=wc.DataType.INT),\n",
    "        wc.Property(name=\"platforms\", data_type=wc.DataType.TEXT_ARRAY),\n",
    "        wc.Property(name=\"release_date\", data_type=wc.DataType.DATE),\n",
    "        wc.Property(name=\"description\", data_type=wc.DataType.TEXT),\n",
    "    ],\n",
    "    generative_config=wc.Configure.Generative.ollama(model=\"deepseek-r1:1.5b\",\n",
    "                                                     api_endpoint=\"http://host.docker.internal:11434\"),\n",
    "    vectorizer_config=wc.Configure.Vectorizer.text2vec_openai(),\n",
    "\n",
    ")"
   ]
  },
  {
   "cell_type": "code",
   "execution_count": 3,
   "metadata": {},
   "outputs": [
    {
     "name": "stderr",
     "output_type": "stream",
     "text": [
      "915it [00:05, 176.23it/s]\n"
     ]
    }
   ],
   "source": [
    "\n",
    "games = client.collections.get(\"Games\")\n",
    "\n",
    "df = pd.read_csv('games.csv')\n",
    "\n",
    "with games.batch.dynamic() as batch:\n",
    "    for i, game in tqdm(df.iterrows()):\n",
    "        platforms = game[\"platform\"].split(',') if type(game[\"platform\"]) is str else []\n",
    "        game_obj = {\n",
    "            \"name\": game[\"name\"],\n",
    "            \"platforms\": platforms,\n",
    "            \"price\": game[\"price\"],\n",
    "            \"release_date\": game[\"release_date\"],\n",
    "            \"description\": game[\"description\"],\n",
    "        }\n",
    "\n",
    "        batch.add_object(\n",
    "            properties=game_obj,\n",
    "            uuid=generate_uuid5(game[\"id\"])\n",
    "        )\n",
    "if len(games.batch.failed_objects) > 0:\n",
    "    print(f\"Failed to import {len(games.batch.failed_objects)} objects\")\n",
    "    print(games.batch.failed_objects)"
   ]
  },
  {
   "cell_type": "code",
   "execution_count": 4,
   "metadata": {},
   "outputs": [
    {
     "name": "stdout",
     "output_type": "stream",
     "text": [
      "{'platforms': ['Windows'], 'description': \"A dark fantasy roguelike where you play as the Devil! Lead famous evil geniuses through events and turn-based fights to spread terror and corruption, and use your evil powers to change the game's rules to your advantage.\", 'price': 2499, 'release_date': datetime.datetime(2021, 9, 30, 8, 0, tzinfo=datetime.timezone.utc), 'name': 'Rogue Lords'}\n",
      "{'platforms': ['Windows'], 'description': 'Smash, clobber and bash the murderous legends of Slavic mythology in this darkly funny action role-playing game that changes every time you play. Play as Ivan, a one-handed blacksmith with incredibly bad luck, who must take on the impossible tasks given to him by the tzar. All...', 'price': 2499, 'release_date': datetime.datetime(2019, 11, 12, 14, 0, tzinfo=datetime.timezone.utc), 'name': 'Yaga'}\n",
      "{'platforms': ['Windows'], 'description': 'In a violent, medieval world, outplay rival gangs in intense PvPvE multiplayer heists. Moving in stealth to steal treasures unseen or dominating through loud and brutal combat, only the best will escape with hard-earned riches.', 'price': 1999, 'release_date': datetime.datetime(2021, 5, 10, 15, 0, tzinfo=datetime.timezone.utc), 'name': 'Hood: Outlaws & Legends'}\n"
     ]
    }
   ],
   "source": [
    "response = games.query.near_text(query=\"I play the vilain\", limit=3)\n",
    "\n",
    "for o in response.objects:\n",
    "    print(o.properties)"
   ]
  },
  {
   "cell_type": "code",
   "execution_count": 8,
   "metadata": {},
   "outputs": [
    {
     "data": {
      "text/plain": [
       "{'invertedIndexConfig': {'bm25': {'b': 0.75, 'k1': 1.2},\n",
       "  'cleanupIntervalSeconds': 60,\n",
       "  'indexNullState': False,\n",
       "  'indexPropertyLength': False,\n",
       "  'indexTimestamps': False,\n",
       "  'stopwords': {'preset': 'en'}},\n",
       " 'multiTenancyConfig': {'enabled': False,\n",
       "  'autoTenantCreation': False,\n",
       "  'autoTenantActivation': False},\n",
       " 'properties': [{'name': 'name',\n",
       "   'dataType': ['text'],\n",
       "   'indexFilterable': True,\n",
       "   'indexSearchable': True,\n",
       "   'indexRangeFilters': False,\n",
       "   'tokenization': 'word',\n",
       "   'moduleConfig': {'text2vec-openai': {'skip': False,\n",
       "     'vectorizePropertyName': True}}},\n",
       "  {'name': 'price',\n",
       "   'dataType': ['int'],\n",
       "   'indexFilterable': True,\n",
       "   'indexSearchable': False,\n",
       "   'indexRangeFilters': False,\n",
       "   'tokenization': None,\n",
       "   'moduleConfig': {'text2vec-openai': {'skip': False,\n",
       "     'vectorizePropertyName': True}}},\n",
       "  {'name': 'platforms',\n",
       "   'dataType': ['text[]'],\n",
       "   'indexFilterable': True,\n",
       "   'indexSearchable': True,\n",
       "   'indexRangeFilters': False,\n",
       "   'tokenization': 'word',\n",
       "   'moduleConfig': {'text2vec-openai': {'skip': False,\n",
       "     'vectorizePropertyName': True}}},\n",
       "  {'name': 'release_date',\n",
       "   'dataType': ['date'],\n",
       "   'indexFilterable': True,\n",
       "   'indexSearchable': False,\n",
       "   'indexRangeFilters': False,\n",
       "   'tokenization': None,\n",
       "   'moduleConfig': {'text2vec-openai': {'skip': False,\n",
       "     'vectorizePropertyName': True}}},\n",
       "  {'name': 'description',\n",
       "   'dataType': ['text'],\n",
       "   'indexFilterable': True,\n",
       "   'indexSearchable': True,\n",
       "   'indexRangeFilters': False,\n",
       "   'tokenization': 'word',\n",
       "   'moduleConfig': {'text2vec-openai': {'skip': False,\n",
       "     'vectorizePropertyName': True}}}],\n",
       " 'replicationConfig': {'factor': 1,\n",
       "  'asyncEnabled': False,\n",
       "  'deletionStrategy': 'NoAutomatedResolution'},\n",
       " 'shardingConfig': {'virtualPerPhysical': 128,\n",
       "  'desiredCount': 1,\n",
       "  'actualCount': 1,\n",
       "  'desiredVirtualCount': 128,\n",
       "  'actualVirtualCount': 128,\n",
       "  'key': '_id',\n",
       "  'strategy': 'hash',\n",
       "  'function': 'murmur3'},\n",
       " 'vectorIndexConfig': {'cleanupIntervalSeconds': 300,\n",
       "  'distanceMetric': 'cosine',\n",
       "  'dynamicEfMin': 100,\n",
       "  'dynamicEfMax': 500,\n",
       "  'dynamicEfFactor': 8,\n",
       "  'ef': -1,\n",
       "  'efConstruction': 128,\n",
       "  'filterStrategy': 'sweeping',\n",
       "  'flatSearchCutoff': 40000,\n",
       "  'maxConnections': 32,\n",
       "  'skip': False,\n",
       "  'vectorCacheMaxObjects': 1000000000000},\n",
       " 'vectorIndexType': 'hnsw',\n",
       " 'vectorizer': 'text2vec-openai',\n",
       " 'class': 'Games',\n",
       " 'moduleConfig': {'generative-ollama': {'apiEndpoint': 'http://host.docker.internal:11434',\n",
       "   'model': 'deepseek-r1:1.5b'},\n",
       "  'text2vec-openai': {'baseURL': 'https://api.openai.com',\n",
       "   'model': 'text-embedding-3-small',\n",
       "   'vectorizeClassName': True}}}"
      ]
     },
     "execution_count": 8,
     "metadata": {},
     "output_type": "execute_result"
    }
   ],
   "source": [
    "games.config.get().to_dict()"
   ]
  },
  {
   "cell_type": "code",
   "execution_count": null,
   "metadata": {},
   "outputs": [
    {
     "ename": "WeaviateQueryError",
     "evalue": "Query call with protocol GRPC search failed with message <AioRpcError of RPC that terminated with:\n\tstatus = StatusCode.UNKNOWN\n\tdetails = \"explorer: get class: concurrentTargetVectorSearch): explorer: get class: extend: extend generate: client not found, empty provider\"\n\tdebug_error_string = \"UNKNOWN:Error received from peer  {created_time:\"2025-01-31T14:01:42.322482+01:00\", grpc_status:2, grpc_message:\"explorer: get class: concurrentTargetVectorSearch): explorer: get class: extend: extend generate: client not found, empty provider\"}\"\n>.",
     "output_type": "error",
     "traceback": [
      "\u001b[0;31m---------------------------------------------------------------------------\u001b[0m",
      "\u001b[0;31mAioRpcError\u001b[0m                               Traceback (most recent call last)",
      "File \u001b[0;32m~/miniconda3/envs/deepseek/lib/python3.12/site-packages/weaviate/collections/grpc/query.py:805\u001b[0m, in \u001b[0;36m_QueryGRPC.__call\u001b[0;34m(self, request)\u001b[0m\n\u001b[1;32m    804\u001b[0m \u001b[38;5;28;01massert\u001b[39;00m \u001b[38;5;28mself\u001b[39m\u001b[38;5;241m.\u001b[39m_connection\u001b[38;5;241m.\u001b[39mgrpc_stub \u001b[38;5;129;01mis\u001b[39;00m \u001b[38;5;129;01mnot\u001b[39;00m \u001b[38;5;28;01mNone\u001b[39;00m\n\u001b[0;32m--> 805\u001b[0m res \u001b[38;5;241m=\u001b[39m \u001b[38;5;28;01mawait\u001b[39;00m _Retry(\u001b[38;5;241m4\u001b[39m)\u001b[38;5;241m.\u001b[39mwith_exponential_backoff(\n\u001b[1;32m    806\u001b[0m     \u001b[38;5;241m0\u001b[39m,\n\u001b[1;32m    807\u001b[0m     \u001b[38;5;124mf\u001b[39m\u001b[38;5;124m\"\u001b[39m\u001b[38;5;124mSearching in collection \u001b[39m\u001b[38;5;132;01m{\u001b[39;00mrequest\u001b[38;5;241m.\u001b[39mcollection\u001b[38;5;132;01m}\u001b[39;00m\u001b[38;5;124m\"\u001b[39m,\n\u001b[1;32m    808\u001b[0m     \u001b[38;5;28mself\u001b[39m\u001b[38;5;241m.\u001b[39m_connection\u001b[38;5;241m.\u001b[39mgrpc_stub\u001b[38;5;241m.\u001b[39mSearch,\n\u001b[1;32m    809\u001b[0m     request,\n\u001b[1;32m    810\u001b[0m     metadata\u001b[38;5;241m=\u001b[39m\u001b[38;5;28mself\u001b[39m\u001b[38;5;241m.\u001b[39m_connection\u001b[38;5;241m.\u001b[39mgrpc_headers(),\n\u001b[1;32m    811\u001b[0m     timeout\u001b[38;5;241m=\u001b[39m\u001b[38;5;28mself\u001b[39m\u001b[38;5;241m.\u001b[39m_connection\u001b[38;5;241m.\u001b[39mtimeout_config\u001b[38;5;241m.\u001b[39mquery,\n\u001b[1;32m    812\u001b[0m )\n\u001b[1;32m    813\u001b[0m \u001b[38;5;28;01mreturn\u001b[39;00m cast(search_get_pb2\u001b[38;5;241m.\u001b[39mSearchReply, res)\n",
      "File \u001b[0;32m~/miniconda3/envs/deepseek/lib/python3.12/site-packages/weaviate/collections/grpc/retry.py:31\u001b[0m, in \u001b[0;36m_Retry.with_exponential_backoff\u001b[0;34m(self, count, error, f, *args, **kwargs)\u001b[0m\n\u001b[1;32m     30\u001b[0m \u001b[38;5;28;01mif\u001b[39;00m e\u001b[38;5;241m.\u001b[39mcode() \u001b[38;5;241m!=\u001b[39m StatusCode\u001b[38;5;241m.\u001b[39mUNAVAILABLE:\n\u001b[0;32m---> 31\u001b[0m     \u001b[38;5;28;01mraise\u001b[39;00m e\n\u001b[1;32m     32\u001b[0m logger\u001b[38;5;241m.\u001b[39minfo(\n\u001b[1;32m     33\u001b[0m     \u001b[38;5;124mf\u001b[39m\u001b[38;5;124m\"\u001b[39m\u001b[38;5;132;01m{\u001b[39;00merror\u001b[38;5;132;01m}\u001b[39;00m\u001b[38;5;124m received exception: \u001b[39m\u001b[38;5;132;01m{\u001b[39;00me\u001b[38;5;132;01m}\u001b[39;00m\u001b[38;5;124m. Retrying with exponential backoff in \u001b[39m\u001b[38;5;132;01m{\u001b[39;00m\u001b[38;5;241m2\u001b[39m\u001b[38;5;241m*\u001b[39m\u001b[38;5;241m*\u001b[39mcount\u001b[38;5;132;01m}\u001b[39;00m\u001b[38;5;124m seconds\u001b[39m\u001b[38;5;124m\"\u001b[39m\n\u001b[1;32m     34\u001b[0m )\n",
      "File \u001b[0;32m~/miniconda3/envs/deepseek/lib/python3.12/site-packages/weaviate/collections/grpc/retry.py:28\u001b[0m, in \u001b[0;36m_Retry.with_exponential_backoff\u001b[0;34m(self, count, error, f, *args, **kwargs)\u001b[0m\n\u001b[1;32m     27\u001b[0m \u001b[38;5;28;01mtry\u001b[39;00m:\n\u001b[0;32m---> 28\u001b[0m     \u001b[38;5;28;01mreturn\u001b[39;00m \u001b[38;5;28;01mawait\u001b[39;00m f(\u001b[38;5;241m*\u001b[39margs, \u001b[38;5;241m*\u001b[39m\u001b[38;5;241m*\u001b[39mkwargs)\n\u001b[1;32m     29\u001b[0m \u001b[38;5;28;01mexcept\u001b[39;00m AioRpcError \u001b[38;5;28;01mas\u001b[39;00m e:\n",
      "File \u001b[0;32m~/miniconda3/envs/deepseek/lib/python3.12/site-packages/grpc/aio/_call.py:327\u001b[0m, in \u001b[0;36m_UnaryResponseMixin.__await__\u001b[0;34m(self)\u001b[0m\n\u001b[1;32m    326\u001b[0m     \u001b[38;5;28;01melse\u001b[39;00m:\n\u001b[0;32m--> 327\u001b[0m         \u001b[38;5;28;01mraise\u001b[39;00m _create_rpc_error(\n\u001b[1;32m    328\u001b[0m             \u001b[38;5;28mself\u001b[39m\u001b[38;5;241m.\u001b[39m_cython_call\u001b[38;5;241m.\u001b[39m_initial_metadata,\n\u001b[1;32m    329\u001b[0m             \u001b[38;5;28mself\u001b[39m\u001b[38;5;241m.\u001b[39m_cython_call\u001b[38;5;241m.\u001b[39m_status,\n\u001b[1;32m    330\u001b[0m         )\n\u001b[1;32m    331\u001b[0m \u001b[38;5;28;01melse\u001b[39;00m:\n",
      "\u001b[0;31mAioRpcError\u001b[0m: <AioRpcError of RPC that terminated with:\n\tstatus = StatusCode.UNKNOWN\n\tdetails = \"explorer: get class: concurrentTargetVectorSearch): explorer: get class: extend: extend generate: client not found, empty provider\"\n\tdebug_error_string = \"UNKNOWN:Error received from peer  {created_time:\"2025-01-31T14:01:42.322482+01:00\", grpc_status:2, grpc_message:\"explorer: get class: concurrentTargetVectorSearch): explorer: get class: extend: extend generate: client not found, empty provider\"}\"\n>",
      "\nDuring handling of the above exception, another exception occurred:\n",
      "\u001b[0;31mWeaviateQueryError\u001b[0m                        Traceback (most recent call last)",
      "Cell \u001b[0;32mIn[6], line 1\u001b[0m\n\u001b[0;32m----> 1\u001b[0m response \u001b[38;5;241m=\u001b[39m \u001b[43mgames\u001b[49m\u001b[38;5;241;43m.\u001b[39;49m\u001b[43mgenerate\u001b[49m\u001b[38;5;241;43m.\u001b[39;49m\u001b[43mnear_text\u001b[49m\u001b[43m(\u001b[49m\n\u001b[1;32m      2\u001b[0m \u001b[43m    \u001b[49m\u001b[43mquery\u001b[49m\u001b[38;5;241;43m=\u001b[39;49m\u001b[38;5;124;43m\"\u001b[39;49m\u001b[38;5;124;43mWhat are some games where I get to play the vilain?\u001b[39;49m\u001b[38;5;124;43m\"\u001b[39;49m\u001b[43m,\u001b[49m\n\u001b[1;32m      3\u001b[0m \u001b[43m    \u001b[49m\u001b[43mlimit\u001b[49m\u001b[38;5;241;43m=\u001b[39;49m\u001b[38;5;241;43m5\u001b[39;49m\u001b[43m,\u001b[49m\n\u001b[1;32m      4\u001b[0m \u001b[43m    \u001b[49m\u001b[43mgrouped_task\u001b[49m\u001b[38;5;241;43m=\u001b[39;49m\u001b[38;5;124;43m\"\u001b[39;49m\u001b[38;5;124;43mProvide an answer to the question by making sure you refer to the price for each game as well as the platforms it\u001b[39;49m\u001b[38;5;124;43m'\u001b[39;49m\u001b[38;5;124;43ms available on.\u001b[39;49m\u001b[38;5;124;43m\"\u001b[39;49m\u001b[43m,\u001b[49m\n\u001b[1;32m      5\u001b[0m \u001b[43m    \u001b[49m\u001b[43mgrouped_properties\u001b[49m\u001b[38;5;241;43m=\u001b[39;49m\u001b[43m[\u001b[49m\u001b[38;5;124;43m\"\u001b[39;49m\u001b[38;5;124;43mname\u001b[39;49m\u001b[38;5;124;43m\"\u001b[39;49m\u001b[43m,\u001b[49m\u001b[43m \u001b[49m\u001b[38;5;124;43m\"\u001b[39;49m\u001b[38;5;124;43mdescription\u001b[39;49m\u001b[38;5;124;43m\"\u001b[39;49m\u001b[43m,\u001b[49m\u001b[43m \u001b[49m\u001b[38;5;124;43m\"\u001b[39;49m\u001b[38;5;124;43mprice\u001b[39;49m\u001b[38;5;124;43m\"\u001b[39;49m\u001b[43m,\u001b[49m\u001b[43m \u001b[49m\u001b[38;5;124;43m\"\u001b[39;49m\u001b[38;5;124;43mplatforms\u001b[39;49m\u001b[38;5;124;43m\"\u001b[39;49m\u001b[43m]\u001b[49m\u001b[43m,\u001b[49m\n\u001b[1;32m      6\u001b[0m \u001b[43m      \u001b[49m\n\u001b[1;32m      7\u001b[0m \u001b[43m)\u001b[49m\n\u001b[1;32m      9\u001b[0m \u001b[38;5;28mprint\u001b[39m(response\u001b[38;5;241m.\u001b[39mgenerated)\n\u001b[1;32m     10\u001b[0m \u001b[38;5;28;01mfor\u001b[39;00m o \u001b[38;5;129;01min\u001b[39;00m response\u001b[38;5;241m.\u001b[39mobjects:\n",
      "File \u001b[0;32m~/miniconda3/envs/deepseek/lib/python3.12/site-packages/weaviate/syncify.py:23\u001b[0m, in \u001b[0;36mconvert.<locals>.sync_method\u001b[0;34m(self, __new_name, *args, **kwargs)\u001b[0m\n\u001b[1;32m     20\u001b[0m \u001b[38;5;129m@wraps\u001b[39m(method)  \u001b[38;5;66;03m# type: ignore\u001b[39;00m\n\u001b[1;32m     21\u001b[0m \u001b[38;5;28;01mdef\u001b[39;00m\u001b[38;5;250m \u001b[39m\u001b[38;5;21msync_method\u001b[39m(\u001b[38;5;28mself\u001b[39m, \u001b[38;5;241m*\u001b[39margs, __new_name\u001b[38;5;241m=\u001b[39mnew_name, \u001b[38;5;241m*\u001b[39m\u001b[38;5;241m*\u001b[39mkwargs):\n\u001b[1;32m     22\u001b[0m     async_func \u001b[38;5;241m=\u001b[39m \u001b[38;5;28mgetattr\u001b[39m(\u001b[38;5;28mcls\u001b[39m, __new_name)\n\u001b[0;32m---> 23\u001b[0m     \u001b[38;5;28;01mreturn\u001b[39;00m \u001b[43m_EventLoopSingleton\u001b[49m\u001b[38;5;241;43m.\u001b[39;49m\u001b[43mget_instance\u001b[49m\u001b[43m(\u001b[49m\u001b[43m)\u001b[49m\u001b[38;5;241;43m.\u001b[39;49m\u001b[43mrun_until_complete\u001b[49m\u001b[43m(\u001b[49m\n\u001b[1;32m     24\u001b[0m \u001b[43m        \u001b[49m\u001b[43masync_func\u001b[49m\u001b[43m,\u001b[49m\u001b[43m \u001b[49m\u001b[38;5;28;43mself\u001b[39;49m\u001b[43m,\u001b[49m\u001b[43m \u001b[49m\u001b[38;5;241;43m*\u001b[39;49m\u001b[43margs\u001b[49m\u001b[43m,\u001b[49m\u001b[43m \u001b[49m\u001b[38;5;241;43m*\u001b[39;49m\u001b[38;5;241;43m*\u001b[39;49m\u001b[43mkwargs\u001b[49m\n\u001b[1;32m     25\u001b[0m \u001b[43m    \u001b[49m\u001b[43m)\u001b[49m\n",
      "File \u001b[0;32m~/miniconda3/envs/deepseek/lib/python3.12/site-packages/weaviate/event_loop.py:42\u001b[0m, in \u001b[0;36m_EventLoop.run_until_complete\u001b[0;34m(self, f, *args, **kwargs)\u001b[0m\n\u001b[1;32m     40\u001b[0m     \u001b[38;5;28;01mraise\u001b[39;00m WeaviateClosedClientError()\n\u001b[1;32m     41\u001b[0m fut \u001b[38;5;241m=\u001b[39m asyncio\u001b[38;5;241m.\u001b[39mrun_coroutine_threadsafe(f(\u001b[38;5;241m*\u001b[39margs, \u001b[38;5;241m*\u001b[39m\u001b[38;5;241m*\u001b[39mkwargs), \u001b[38;5;28mself\u001b[39m\u001b[38;5;241m.\u001b[39mloop)\n\u001b[0;32m---> 42\u001b[0m \u001b[38;5;28;01mreturn\u001b[39;00m \u001b[43mfut\u001b[49m\u001b[38;5;241;43m.\u001b[39;49m\u001b[43mresult\u001b[49m\u001b[43m(\u001b[49m\u001b[43m)\u001b[49m\n",
      "File \u001b[0;32m~/miniconda3/envs/deepseek/lib/python3.12/concurrent/futures/_base.py:456\u001b[0m, in \u001b[0;36mFuture.result\u001b[0;34m(self, timeout)\u001b[0m\n\u001b[1;32m    454\u001b[0m     \u001b[38;5;28;01mraise\u001b[39;00m CancelledError()\n\u001b[1;32m    455\u001b[0m \u001b[38;5;28;01melif\u001b[39;00m \u001b[38;5;28mself\u001b[39m\u001b[38;5;241m.\u001b[39m_state \u001b[38;5;241m==\u001b[39m FINISHED:\n\u001b[0;32m--> 456\u001b[0m     \u001b[38;5;28;01mreturn\u001b[39;00m \u001b[38;5;28;43mself\u001b[39;49m\u001b[38;5;241;43m.\u001b[39;49m\u001b[43m__get_result\u001b[49m\u001b[43m(\u001b[49m\u001b[43m)\u001b[49m\n\u001b[1;32m    457\u001b[0m \u001b[38;5;28;01melse\u001b[39;00m:\n\u001b[1;32m    458\u001b[0m     \u001b[38;5;28;01mraise\u001b[39;00m \u001b[38;5;167;01mTimeoutError\u001b[39;00m()\n",
      "File \u001b[0;32m~/miniconda3/envs/deepseek/lib/python3.12/concurrent/futures/_base.py:401\u001b[0m, in \u001b[0;36mFuture.__get_result\u001b[0;34m(self)\u001b[0m\n\u001b[1;32m    399\u001b[0m \u001b[38;5;28;01mif\u001b[39;00m \u001b[38;5;28mself\u001b[39m\u001b[38;5;241m.\u001b[39m_exception:\n\u001b[1;32m    400\u001b[0m     \u001b[38;5;28;01mtry\u001b[39;00m:\n\u001b[0;32m--> 401\u001b[0m         \u001b[38;5;28;01mraise\u001b[39;00m \u001b[38;5;28mself\u001b[39m\u001b[38;5;241m.\u001b[39m_exception\n\u001b[1;32m    402\u001b[0m     \u001b[38;5;28;01mfinally\u001b[39;00m:\n\u001b[1;32m    403\u001b[0m         \u001b[38;5;66;03m# Break a reference cycle with the exception in self._exception\u001b[39;00m\n\u001b[1;32m    404\u001b[0m         \u001b[38;5;28mself\u001b[39m \u001b[38;5;241m=\u001b[39m \u001b[38;5;28;01mNone\u001b[39;00m\n",
      "File \u001b[0;32m~/miniconda3/envs/deepseek/lib/python3.12/site-packages/weaviate/collections/queries/near_text/generate.py:101\u001b[0m, in \u001b[0;36m_NearTextGenerateAsync.near_text\u001b[0;34m(self, query, single_prompt, grouped_task, grouped_properties, certainty, distance, move_to, move_away, limit, offset, auto_limit, filters, group_by, rerank, target_vector, include_vector, return_metadata, return_properties, return_references)\u001b[0m\n\u001b[1;32m     28\u001b[0m \u001b[38;5;28;01masync\u001b[39;00m \u001b[38;5;28;01mdef\u001b[39;00m\u001b[38;5;250m \u001b[39m\u001b[38;5;21mnear_text\u001b[39m(\n\u001b[1;32m     29\u001b[0m     \u001b[38;5;28mself\u001b[39m,\n\u001b[1;32m     30\u001b[0m     query: Union[List[\u001b[38;5;28mstr\u001b[39m], \u001b[38;5;28mstr\u001b[39m],\n\u001b[0;32m   (...)\u001b[0m\n\u001b[1;32m     49\u001b[0m     return_references: Optional[ReturnReferences[TReferences]] \u001b[38;5;241m=\u001b[39m \u001b[38;5;28;01mNone\u001b[39;00m,\n\u001b[1;32m     50\u001b[0m ) \u001b[38;5;241m-\u001b[39m\u001b[38;5;241m>\u001b[39m GenerativeSearchReturnType[Properties, References, TProperties, TReferences]:\n\u001b[1;32m     51\u001b[0m \u001b[38;5;250m    \u001b[39m\u001b[38;5;124;03m\"\"\"Perform retrieval-augmented generation (RaG) on the results of a by-image object search in this collection using the image-capable vectorization module and vector-based similarity search.\u001b[39;00m\n\u001b[1;32m     52\u001b[0m \n\u001b[1;32m     53\u001b[0m \u001b[38;5;124;03m    See the [docs](https://weaviate.io/developers/weaviate/api/graphql/search-operators#neartext) for a more detailed explanation.\u001b[39;00m\n\u001b[0;32m   (...)\u001b[0m\n\u001b[1;32m     99\u001b[0m \u001b[38;5;124;03m            If the request to the Weaviate server fails.\u001b[39;00m\n\u001b[1;32m    100\u001b[0m \u001b[38;5;124;03m    \"\"\"\u001b[39;00m\n\u001b[0;32m--> 101\u001b[0m     res \u001b[38;5;241m=\u001b[39m \u001b[38;5;28;01mawait\u001b[39;00m \u001b[38;5;28mself\u001b[39m\u001b[38;5;241m.\u001b[39m_query\u001b[38;5;241m.\u001b[39mnear_text(\n\u001b[1;32m    102\u001b[0m         near_text\u001b[38;5;241m=\u001b[39mquery,\n\u001b[1;32m    103\u001b[0m         certainty\u001b[38;5;241m=\u001b[39mcertainty,\n\u001b[1;32m    104\u001b[0m         distance\u001b[38;5;241m=\u001b[39mdistance,\n\u001b[1;32m    105\u001b[0m         move_to\u001b[38;5;241m=\u001b[39mmove_to,\n\u001b[1;32m    106\u001b[0m         move_away\u001b[38;5;241m=\u001b[39mmove_away,\n\u001b[1;32m    107\u001b[0m         limit\u001b[38;5;241m=\u001b[39mlimit,\n\u001b[1;32m    108\u001b[0m         offset\u001b[38;5;241m=\u001b[39moffset,\n\u001b[1;32m    109\u001b[0m         autocut\u001b[38;5;241m=\u001b[39mauto_limit,\n\u001b[1;32m    110\u001b[0m         filters\u001b[38;5;241m=\u001b[39mfilters,\n\u001b[1;32m    111\u001b[0m         group_by\u001b[38;5;241m=\u001b[39m_GroupBy\u001b[38;5;241m.\u001b[39mfrom_input(group_by),\n\u001b[1;32m    112\u001b[0m         rerank\u001b[38;5;241m=\u001b[39mrerank,\n\u001b[1;32m    113\u001b[0m         target_vector\u001b[38;5;241m=\u001b[39mtarget_vector,\n\u001b[1;32m    114\u001b[0m         generative\u001b[38;5;241m=\u001b[39m_Generative(\n\u001b[1;32m    115\u001b[0m             single\u001b[38;5;241m=\u001b[39msingle_prompt,\n\u001b[1;32m    116\u001b[0m             grouped\u001b[38;5;241m=\u001b[39mgrouped_task,\n\u001b[1;32m    117\u001b[0m             grouped_properties\u001b[38;5;241m=\u001b[39mgrouped_properties,\n\u001b[1;32m    118\u001b[0m         ),\n\u001b[1;32m    119\u001b[0m         return_metadata\u001b[38;5;241m=\u001b[39m\u001b[38;5;28mself\u001b[39m\u001b[38;5;241m.\u001b[39m_parse_return_metadata(return_metadata, include_vector),\n\u001b[1;32m    120\u001b[0m         return_properties\u001b[38;5;241m=\u001b[39m\u001b[38;5;28mself\u001b[39m\u001b[38;5;241m.\u001b[39m_parse_return_properties(return_properties),\n\u001b[1;32m    121\u001b[0m         return_references\u001b[38;5;241m=\u001b[39m\u001b[38;5;28mself\u001b[39m\u001b[38;5;241m.\u001b[39m_parse_return_references(return_references),\n\u001b[1;32m    122\u001b[0m     )\n\u001b[1;32m    123\u001b[0m     \u001b[38;5;28;01mreturn\u001b[39;00m \u001b[38;5;28mself\u001b[39m\u001b[38;5;241m.\u001b[39m_result_to_generative_return(\n\u001b[1;32m    124\u001b[0m         res,\n\u001b[1;32m    125\u001b[0m         _QueryOptions\u001b[38;5;241m.\u001b[39mfrom_input(\n\u001b[0;32m   (...)\u001b[0m\n\u001b[1;32m    135\u001b[0m         return_references,\n\u001b[1;32m    136\u001b[0m     )\n",
      "File \u001b[0;32m~/miniconda3/envs/deepseek/lib/python3.12/site-packages/weaviate/collections/grpc/query.py:817\u001b[0m, in \u001b[0;36m_QueryGRPC.__call\u001b[0;34m(self, request)\u001b[0m\n\u001b[1;32m    815\u001b[0m     \u001b[38;5;28;01mif\u001b[39;00m e\u001b[38;5;241m.\u001b[39mcode()\u001b[38;5;241m.\u001b[39mname \u001b[38;5;241m==\u001b[39m PERMISSION_DENIED:\n\u001b[1;32m    816\u001b[0m         \u001b[38;5;28;01mraise\u001b[39;00m InsufficientPermissionsError(e)\n\u001b[0;32m--> 817\u001b[0m     \u001b[38;5;28;01mraise\u001b[39;00m WeaviateQueryError(\u001b[38;5;28mstr\u001b[39m(e), \u001b[38;5;124m\"\u001b[39m\u001b[38;5;124mGRPC search\u001b[39m\u001b[38;5;124m\"\u001b[39m)  \u001b[38;5;66;03m# pyright: ignore\u001b[39;00m\n\u001b[1;32m    818\u001b[0m \u001b[38;5;28;01mexcept\u001b[39;00m WeaviateRetryError \u001b[38;5;28;01mas\u001b[39;00m e:\n\u001b[1;32m    819\u001b[0m     \u001b[38;5;28;01mraise\u001b[39;00m WeaviateQueryError(\u001b[38;5;28mstr\u001b[39m(e), \u001b[38;5;124m\"\u001b[39m\u001b[38;5;124mGRPC search\u001b[39m\u001b[38;5;124m\"\u001b[39m)\n",
      "\u001b[0;31mWeaviateQueryError\u001b[0m: Query call with protocol GRPC search failed with message <AioRpcError of RPC that terminated with:\n\tstatus = StatusCode.UNKNOWN\n\tdetails = \"explorer: get class: concurrentTargetVectorSearch): explorer: get class: extend: extend generate: client not found, empty provider\"\n\tdebug_error_string = \"UNKNOWN:Error received from peer  {created_time:\"2025-01-31T14:01:42.322482+01:00\", grpc_status:2, grpc_message:\"explorer: get class: concurrentTargetVectorSearch): explorer: get class: extend: extend generate: client not found, empty provider\"}\"\n>."
     ]
    }
   ],
   "source": [
    "response = games.generate.near_text(\n",
    "    query=\"What are some games where I get to play the vilain?\",\n",
    "    limit=5,\n",
    "    grouped_task=\"Provide an answer to the question by making sure you refer to the price for each game as well as the platforms it's available on.\",\n",
    "    grouped_properties=[\"name\", \"description\", \"price\", \"platforms\"],     \n",
    ")\n",
    "\n",
    "print(response.generated)\n",
    "for o in response.objects:\n",
    "    print(o.properties)\n",
    "    print(o.generated)"
   ]
  },
  {
   "cell_type": "code",
   "execution_count": 8,
   "metadata": {},
   "outputs": [
    {
     "name": "stdout",
     "output_type": "stream",
     "text": [
      "<think>\n",
      "\n",
      "</think>\n",
      "\n",
      "The capital of China is Beijing.\n"
     ]
    }
   ],
   "source": [
    "import ollama\n",
    "\n",
    "output = ollama.generate(\n",
    "  model=\"deepseek-r1:1.5b\",\n",
    "  prompt=\"What is the capital of china?\"\n",
    ")\n",
    "\n",
    "print(output['response'])"
   ]
  },
  {
   "cell_type": "code",
   "execution_count": null,
   "metadata": {},
   "outputs": [],
   "source": []
  }
 ],
 "metadata": {
  "kernelspec": {
   "display_name": "deepseek",
   "language": "python",
   "name": "python3"
  },
  "language_info": {
   "codemirror_mode": {
    "name": "ipython",
    "version": 3
   },
   "file_extension": ".py",
   "mimetype": "text/x-python",
   "name": "python",
   "nbconvert_exporter": "python",
   "pygments_lexer": "ipython3",
   "version": "3.12.8"
  }
 },
 "nbformat": 4,
 "nbformat_minor": 2
}
